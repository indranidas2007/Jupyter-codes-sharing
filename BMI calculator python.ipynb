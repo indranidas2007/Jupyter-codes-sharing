{
 "cells": [
  {
   "cell_type": "code",
   "execution_count": 1,
   "metadata": {},
   "outputs": [
    {
     "name": "stdout",
     "output_type": "stream",
     "text": [
      "8\n"
     ]
    }
   ],
   "source": [
    "#FUNCTION EXAMPLE\n",
    "def function_1(x):\n",
    "    return 2*x\n",
    "a= function_1(4)\n",
    "print(a)\n"
   ]
  },
  {
   "cell_type": "code",
   "execution_count": 6,
   "metadata": {},
   "outputs": [
    {
     "name": "stdout",
     "output_type": "stream",
     "text": [
      "20\n"
     ]
    }
   ],
   "source": [
    "#FUNCTION EXAMPLE\n",
    "def function_2(x,y):\n",
    "    return y*x\n",
    "b= function_2(4,5)\n",
    "print(b)\n"
   ]
  },
  {
   "cell_type": "code",
   "execution_count": 15,
   "metadata": {},
   "outputs": [],
   "source": [
    "#BMI CALCULATOR\n",
    "Name1= \"Karan Patel\"\n",
    "height_1= 1.6\n",
    "weight_Kg1= 78\n",
    "\n",
    "Name2= \"Ashish Gautam\"\n",
    "height_2= 1.8\n",
    "weight_Kg2= 65\n",
    "\n",
    "Name3= \"Sweta Singh\"\n",
    "height_3= 1.4\n",
    "weight_Kg3= 55\n",
    "\n",
    "Name4= \"Indrani Das\"\n",
    "height_4= 1.6\n",
    "weight_Kg4= 58\n",
    "\n",
    "def BMI_CAL(name, height_m, weight_kg):\n",
    "    bmi= weight_kg / (height_m **2)\n",
    "    print(\"BMI index:\")\n",
    "    print(bmi)\n",
    "    if bmi<25:\n",
    "        return name + \"is not overweight\"\n",
    "    else:\n",
    "        return name + \"is overweight\"\n",
    "    \n"
   ]
  },
  {
   "cell_type": "code",
   "execution_count": 16,
   "metadata": {},
   "outputs": [
    {
     "name": "stdout",
     "output_type": "stream",
     "text": [
      "BMI index:\n",
      "30.468749999999993\n",
      "BMI index:\n",
      "20.061728395061728\n",
      "BMI index:\n",
      "28.061224489795922\n",
      "BMI index:\n",
      "22.656249999999996\n"
     ]
    }
   ],
   "source": [
    "result1= BMI_CAL(Name1, height_1, weight_Kg1)\n",
    "result2= BMI_CAL(Name2, height_2, weight_Kg2)\n",
    "result3= BMI_CAL(Name3, height_3, weight_Kg3)\n",
    "result4= BMI_CAL(Name4, height_4, weight_Kg4)"
   ]
  },
  {
   "cell_type": "code",
   "execution_count": 17,
   "metadata": {},
   "outputs": [
    {
     "name": "stdout",
     "output_type": "stream",
     "text": [
      "Karan Patelis overweight\n",
      "Ashish Gautamis not overweight\n",
      "Sweta Singhis overweight\n",
      "Indrani Dasis not overweight\n"
     ]
    }
   ],
   "source": [
    "print(result1)\n",
    "print(result2)\n",
    "print(result3)\n",
    "print(result4)"
   ]
  },
  {
   "cell_type": "code",
   "execution_count": null,
   "metadata": {},
   "outputs": [],
   "source": []
  }
 ],
 "metadata": {
  "kernelspec": {
   "display_name": "Python 3",
   "language": "python",
   "name": "python3"
  },
  "language_info": {
   "codemirror_mode": {
    "name": "ipython",
    "version": 3
   },
   "file_extension": ".py",
   "mimetype": "text/x-python",
   "name": "python",
   "nbconvert_exporter": "python",
   "pygments_lexer": "ipython3",
   "version": "3.8.3"
  }
 },
 "nbformat": 4,
 "nbformat_minor": 4
}
