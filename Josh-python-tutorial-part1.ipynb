{
 "cells": [
  {
   "cell_type": "code",
   "execution_count": 2,
   "metadata": {},
   "outputs": [
    {
     "name": "stdout",
     "output_type": "stream",
     "text": [
      "What is your name?Indrani\n",
      "What is your favourite color?Red\n",
      "Indrani\n",
      "Red\n",
      "Indrani\tlikes\tRed\n"
     ]
    }
   ],
   "source": [
    "name=input(\"What is your name?\")\n",
    "Fav= input(\"What is your favourite color?\")\n",
    "print(name)\n",
    "print(Fav)\n",
    "print(name + \" likes \" + Fav)"
   ]
  },
  {
   "cell_type": "code",
   "execution_count": 4,
   "metadata": {},
   "outputs": [
    {
     "name": "stdout",
     "output_type": "stream",
     "text": [
      "Birth year1996\n",
      "24\n"
     ]
    }
   ],
   "source": [
    "year= input(\"Birth year\")\n",
    "age= 2020- int(year)  #string needs to be converted to int\n",
    "print(age)"
   ]
  },
  {
   "cell_type": "code",
   "execution_count": 8,
   "metadata": {},
   "outputs": [
    {
     "name": "stdout",
     "output_type": "stream",
     "text": [
      "John[cena] is a coder\n",
      "John [cena] is a coder\n"
     ]
    }
   ],
   "source": [
    "first=\"John\"\n",
    "last=\"cena\"\n",
    "message= first + '[' + last + '] is a coder'\n",
    "msg= f'{first} [{last}] is a coder'\n",
    "print(message)\n",
    "print(msg)"
   ]
  },
  {
   "cell_type": "code",
   "execution_count": 10,
   "metadata": {},
   "outputs": [
    {
     "name": "stdout",
     "output_type": "stream",
     "text": [
      "3.3333333333333335\n",
      "1\n"
     ]
    }
   ],
   "source": [
    "print(10/3)\n",
    "print(10%3)"
   ]
  },
  {
   "cell_type": "code",
   "execution_count": 11,
   "metadata": {},
   "outputs": [
    {
     "data": {
      "text/plain": [
       "16"
      ]
     },
     "execution_count": 11,
     "metadata": {},
     "output_type": "execute_result"
    }
   ],
   "source": [
    "x=10 + 3*2\n",
    "x"
   ]
  },
  {
   "cell_type": "code",
   "execution_count": 13,
   "metadata": {},
   "outputs": [
    {
     "name": "stdout",
     "output_type": "stream",
     "text": [
      "22\n",
      "6\n",
      "8\n"
     ]
    }
   ],
   "source": [
    "y=2*3\n",
    "z=2**3\n",
    "x= 10+ 3*2**2\n",
    "print(x)\n",
    "print(y)\n",
    "print(z)"
   ]
  },
  {
   "cell_type": "code",
   "execution_count": 14,
   "metadata": {},
   "outputs": [
    {
     "name": "stdout",
     "output_type": "stream",
     "text": [
      "3\n",
      "2.9\n"
     ]
    }
   ],
   "source": [
    "x=2.9\n",
    "print(round(x))\n",
    "print(abs(-2.9))"
   ]
  },
  {
   "cell_type": "code",
   "execution_count": 17,
   "metadata": {},
   "outputs": [
    {
     "data": {
      "text/plain": [
       "2"
      ]
     },
     "execution_count": 17,
     "metadata": {},
     "output_type": "execute_result"
    }
   ],
   "source": [
    "import math\n",
    "math.ceil(2.9)\n",
    "math.floor(2.9)"
   ]
  },
  {
   "cell_type": "code",
   "execution_count": 21,
   "metadata": {},
   "outputs": [
    {
     "name": "stdout",
     "output_type": "stream",
     "text": [
      "Get blanket\n",
      "Enjoy your Day\n"
     ]
    }
   ],
   "source": [
    "is_hot= False\n",
    "is_cold= True\n",
    "if is_hot:\n",
    "    print(\"drink\")\n",
    "elif is_cold:\n",
    "    print(\"Get blanket\")\n",
    "else:\n",
    "    print(\"Sleep\")\n",
    "print(\"Enjoy your Day\")"
   ]
  },
  {
   "cell_type": "code",
   "execution_count": 23,
   "metadata": {},
   "outputs": [
    {
     "name": "stdout",
     "output_type": "stream",
     "text": [
      "Eligible for Loan\n"
     ]
    }
   ],
   "source": [
    "has_high_income=True\n",
    "has_good_credit=True\n",
    "if has_high_income and has_good_credit:\n",
    "    print(\"Eligible for Loan\")\n",
    "else:\n",
    "    print(\"Not eligible\")"
   ]
  },
  {
   "cell_type": "code",
   "execution_count": 28,
   "metadata": {},
   "outputs": [
    {
     "name": "stdout",
     "output_type": "stream",
     "text": [
      "Today's Temp:30\n",
      "Moderate\n"
     ]
    }
   ],
   "source": [
    "temparature=input(\"Today's Temp:\")\n",
    "temp=int(temparature)\n",
    "if temp>30:\n",
    "    print(\"HOt Day\")\n",
    "elif(temp==30):\n",
    "    print(\"Moderate\")\n",
    "else:\n",
    "    print(\"Not Hot Day\")"
   ]
  },
  {
   "cell_type": "code",
   "execution_count": null,
   "metadata": {},
   "outputs": [],
   "source": [
    "weight=int(input(\"What's your weight:\"))\n",
    "unit=input(\"(L)bs or (K)g:\")\n",
    "if unit.upper()=='L':\n",
    "    converted= weight*0.45\n",
    "    print(f\"You are {converted} kilos\")\n",
    "else:\n",
    "    connverted= weighted/0.45\n",
    "    print(f\" You are {converted} kilos\")\n",
    "          "
   ]
  },
  {
   "cell_type": "code",
   "execution_count": null,
   "metadata": {},
   "outputs": [],
   "source": [
    "i=1\n",
    "while i<=5:\n",
    "    print('*'*i)\n",
    "    i=i+1\n",
    "print(\"Done\")\n",
    "    "
   ]
  },
  {
   "cell_type": "code",
   "execution_count": null,
   "metadata": {},
   "outputs": [],
   "source": [
    "secret_no=9\n",
    "i=0\n",
    "limit=3\n",
    "while i<limit:\n",
    "    guess=int(input('Guess:'))\n",
    "    i +=1\n",
    "    if guess == secret_no:\n",
    "        print(\"You Won\")\n",
    "        break\n",
    "else:\n",
    "    print(\"You Failed.\")\n"
   ]
  },
  {
   "cell_type": "code",
   "execution_count": null,
   "metadata": {},
   "outputs": [],
   "source": [
    "command=\"\"\n",
    "started= False\n",
    "while True:\n",
    "    command= input(\">\").lower()\n",
    "    if command==\"start\":\n",
    "        if started:\n",
    "            print(\"Car is already started\")\n",
    "        else:\n",
    "            started= True\n",
    "            print(\"Car Started...\")\n",
    "    elif command==\"stop\":\n",
    "        if not started:\n",
    "            print(\"Car has already stopped!\")\n",
    "        else:\n",
    "            started= False\n",
    "            print(\"Car is stopped\")\n",
    "    elif command==\"help\":\n",
    "        print(\"\"\"start= to start the car\n",
    "                stop= to stop the car\n",
    "                quit- to quit\"\"\")\n",
    "    elif command== \"quit\":\n",
    "         break\n",
    "    else:\n",
    "        print(\"Sorry i dont understand\")"
   ]
  },
  {
   "cell_type": "code",
   "execution_count": null,
   "metadata": {},
   "outputs": [],
   "source": []
  },
  {
   "cell_type": "code",
   "execution_count": null,
   "metadata": {},
   "outputs": [],
   "source": []
  }
 ],
 "metadata": {
  "kernelspec": {
   "display_name": "Python 3",
   "language": "python",
   "name": "python3"
  },
  "language_info": {
   "codemirror_mode": {
    "name": "ipython",
    "version": 3
   },
   "file_extension": ".py",
   "mimetype": "text/x-python",
   "name": "python",
   "nbconvert_exporter": "python",
   "pygments_lexer": "ipython3",
   "version": "3.8.3"
  }
 },
 "nbformat": 4,
 "nbformat_minor": 4
}
